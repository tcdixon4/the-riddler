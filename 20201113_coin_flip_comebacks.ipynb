{
  "nbformat": 4,
  "nbformat_minor": 0,
  "metadata": {
    "colab": {
      "name": "20201113_coin_flip_comebacks.ipynb",
      "provenance": [],
      "toc_visible": true,
      "authorship_tag": "ABX9TyMKeA2gNrDzoTSdonKJeRxr",
      "include_colab_link": true
    },
    "kernelspec": {
      "name": "python3",
      "display_name": "Python 3"
    }
  },
  "cells": [
    {
      "cell_type": "markdown",
      "metadata": {
        "id": "view-in-github",
        "colab_type": "text"
      },
      "source": [
        "<a href=\"https://colab.research.google.com/github/tcdixon4/the-riddler/blob/master/20201113_coin_flip_comebacks.ipynb\" target=\"_parent\"><img src=\"https://colab.research.google.com/assets/colab-badge.svg\" alt=\"Open In Colab\"/></a>"
      ]
    },
    {
      "cell_type": "markdown",
      "metadata": {
        "id": "WmRBanX9Nn77"
      },
      "source": [
        "# Forecasting improbable comebacks in coin flip competitions\n",
        "\n",
        "\n",
        "---\n",
        "\n",
        "\n",
        "\n"
      ]
    },
    {
      "cell_type": "markdown",
      "metadata": {
        "id": "nDSxw5LrPunX"
      },
      "source": [
        "## The problem\n",
        "\n",
        "Two teams are facing off in a best-of-100 coin flip competition: if at least 51\n",
        "of the 100 coin flips return heads, then team A wins; if at least 51 return\n",
        "tails, then team B wins. Buckle up for the description of our problem, because \n",
        "there will be two layers of probabilities that might get confusing.\n",
        "\n",
        "**What is the probability that team A will have at least a 99% chance of winning\n",
        "at some point during the game, yet end up losing the competition?**\n",
        "\n",
        "\n",
        "See [here](https://fivethirtyeight.com/features/can-you-snatch-defeat-from-the-jaws-of-victory/) for full setup."
      ]
    },
    {
      "cell_type": "markdown",
      "metadata": {
        "id": "zkbtVin6QZm9"
      },
      "source": [
        "## Foundational facts\n",
        "\n",
        "A few foundational pieces of information are required to get going.\n",
        "\n",
        "\n",
        "\n",
        "1.   **Fair coin flips follow a particularly convenient form of the binomial distribution.** If we have some random process (like the coin flip) that has a distinct probability of returning a binary outcome (like heads or tails), and we independently repeat the process multiple times, then the probability that the number of positive outcomes equals a certain value, `k`, is described by the [binomial distribution](https://en.wikipedia.org/wiki/Binomial_distribution). The only parameters needed are the number of repetitions, `n`, and the probability of a single repetition returning a positive outcome, `p`. When `p`=0.5, the probability density function simplifies in a way that we will discuss later.\n",
        "2.   **The binomial distribution can be approximated by the normal distribution in certain situations.** At large values of `n` and values of `p` near 0.5, the binomial distribution can be approximated by the [normal distribution](https://en.wikipedia.org/wiki/Normal_distribution), with $\\mu$ =`np` and $\\sigma$=`np(1-p)`. This will come in handy for the extra credit question. \n",
        "\n"
      ]
    },
    {
      "cell_type": "markdown",
      "metadata": {
        "id": "9RlkhVc3Cf7W"
      },
      "source": [
        "## Formalizing the problem\n",
        "We want to know the probability that two conditions are met.\n",
        "1. The probability that team A will win given the previous coin flips is at least 99% at some point in the game.\n",
        "2. Team A ends up losing.\n",
        "\n",
        "Let's think about this intuitively for a moment. The probability that team A will win should be high when there have been many heads already flipped and plenty of flips left to complete the number of heads neededto eclipse 51.  \n",
        "\n",
        "We mentioned that this coin flipping process follows the binomial distribution:\n",
        "\n",
        "> $ X ~ Bin(n,p) $\n",
        ">\n",
        "> $ P(X=k) = {n \\choose k} p^k(1-p)^{n-k}$\n",
        ">\n",
        "> $ \\hspace{20pt} p=0.5$\n",
        "> \n",
        "> $ P(X=k) = {n \\choose k} 0.5^n$\n",
        "> \n",
        "\n",
        "Therefore, at any point in the game (i.e. any number of the 100 flips that have already been completed) we can calculate the probability of obtaining the remaining number of heads necessary to win given the number that have already appeared. This is formalized in the equation and figure below, showing the conditional probability of losing given a certain number of heads and total flips at an intermediate stage of the competition:\n",
        "\n",
        "> $ P(loss | x_0,n_0) = P(x_0 + X_1 \\leq 50|x_0,n_0) = P(X_1 \\leq 50-x_0|x_0,n_0) $\n",
        ">\n",
        "> $ \\hspace{20pt} $ where $ x_0 $ is the number of heads already in the bank\n",
        ">\n",
        "> $ \\hspace{44pt} $  $ n_0 $ is the number of completed flips\n",
        ">\n",
        "> $ \\hspace{44pt} $ $ X_1 $ is the number of heads yet to be realized in the remaining $ n_1 $ flips\n",
        "> \n",
        "> $ P(loss | x_0,n_0) =  \\sum\\limits_{x_1=0}^{50-x_0} {100-n_0 \\choose x_1} 0.5^{100-n_0}$\n",
        ">\n",
        "\n",
        "In words, this is the sum of all probabilities for events where we start with some number of heads in some number of completed coin flips and do not end up with over 50 heads. This conditional loss probability is shown in the heatmap below, where the color of each cell shows the probability of loss given some number of completed coin flips (X-axis) and some number of already-seen heads (Y-axis).\n",
        "\n"
      ]
    },
    {
      "cell_type": "code",
      "metadata": {
        "id": "ml78y5hyNySD",
        "cellView": "form"
      },
      "source": [
        "#@title\n",
        "# Import dependencies\n",
        "from scipy.stats import binom\n",
        "import numpy as np\n",
        "import matplotlib.pyplot as plt\n",
        "import seaborn as sns; sns.set_theme()"
      ],
      "execution_count": 1,
      "outputs": []
    },
    {
      "cell_type": "code",
      "metadata": {
        "id": "SMzmTBx_NiI-",
        "colab": {
          "base_uri": "https://localhost:8080/",
          "height": 258
        },
        "cellView": "form",
        "outputId": "0c27570a-453a-453a-9ee3-e13287bfbd4d"
      },
      "source": [
        "#@title\n",
        "p_cond = np.zeros([101,101])\n",
        "for n0 in range(101):\n",
        "  for k0 in range(n0):\n",
        "    p_cond[k0,n0] = binom.cdf(50-k0,100-n0,0.5)\n",
        "    \n",
        "ax = sns.heatmap(p_cond[:51,:], square=True, xticklabels=25, yticklabels=10)\n",
        "ax.invert_yaxis()\n",
        "ax.set_title('Conditional Loss Probability', color='black')\n",
        "ax.set_xlabel('Total flips', color='black')\n",
        "ax.set_ylabel('Number Heads', color='black')\n",
        "ax.tick_params(labelcolor='black')\n",
        "cbar = ax.collections[0].colorbar\n",
        "cbar.set_ticks([0, 1])\n",
        "cbar.ax.tick_params(labelcolor='black')\n"
      ],
      "execution_count": 23,
      "outputs": [
        {
          "output_type": "display_data",
          "data": {
            "image/png": "[encoded data removed]",
            "text/plain": [
              "<Figure size 432x288 with 2 Axes>"
            ]
          },
          "metadata": {
            "tags": [],
            "needs_background": "light"
          }
        }
      ]
    },
    {
      "cell_type": "markdown",
      "metadata": {
        "id": "1EhCsFSGdsMX"
      },
      "source": [
        "We can sanity check this by seeing what the probability of loss is if you flipped all 100 coins and got 0 heads. This should be 1, and it is.\n",
        "\n"
      ]
    },
    {
      "cell_type": "markdown",
      "metadata": {
        "id": "rS0ssOvuthZw"
      },
      "source": [
        "## Solving the problem\n",
        "Now, specifically what we are interested in is all games where the win probability was over 0.99 at **some point** in the game. We can certainly calculate the probability of entering any state where the remaining win probability is above 0.99, but we will hit a tricky situation where we want to avoid counting a game twice if the win probability was above 0.99 at more than one point in the game. You could make clever use of the [inclusion-exclusion principle](https://en.wikipedia.org/wiki/Inclusion%E2%80%93exclusion_principle), but instead we are going to solve this problem by simulation.\n",
        "\n",
        "Essentially, we will simulate many games and flag all games where **at some point** there was a conditional loss probability below 1%. At each flip in each simulation, we will simply check this using the formula above (that was used to make the heatmap). We will also flag games where team A ended up losing. The final probability that we seek, representing the joint of these two event probabilities, will be the proportion of simulations that receive both flags."
      ]
    },
    {
      "cell_type": "code",
      "metadata": {
        "id": "oEd523QhOgRH",
        "cellView": "form"
      },
      "source": [
        "#@title\n",
        "def sim_coin_game():\n",
        "  n1_vec = np.arange(99,-1,-1) # helper variable: remaining coin flips\n",
        "  cur_sim = np.random.randint(2, size=100) # randomize all 100 flips\n",
        "  h_need = 50-np.cumsum(cur_sim) # number of remaining heads needed to break 50\n",
        "  win_prob = 1 - binom.cdf(h_need,n1_vec,0.5) # calculate win prob at each point\n",
        "  flag_1 = any(win_prob>0.99) # flag if win_prob was ever above 0.99\n",
        "  flag_2 = h_need[-1] > 0 # flag if there were more than 50 heads at the end\n",
        "\n",
        "  return flag_1 and flag_2"
      ],
      "execution_count": 54,
      "outputs": []
    },
    {
      "cell_type": "code",
      "metadata": {
        "id": "0sggZ8NjPsHR",
        "colab": {
          "base_uri": "https://localhost:8080/"
        },
        "outputId": "cd1e4bf4-e277-4b1f-c8d5-436683aa5f06"
      },
      "source": [
        "sims = np.zeros([100000,1])\n",
        "for sim in range(100000):\n",
        "  sims[sim] = sim_coin_game()\n",
        "  \n",
        "np.mean(sims)"
      ],
      "execution_count": 55,
      "outputs": [
        {
          "output_type": "execute_result",
          "data": {
            "text/plain": [
              "0.00053"
            ]
          },
          "metadata": {
            "tags": []
          },
          "execution_count": 55
        }
      ]
    },
    {
      "cell_type": "markdown",
      "metadata": {
        "id": "2vJcSYaZuNjL"
      },
      "source": [
        "Our finaly probability is approximately 0.0005, or 0.05%. That is very unlikely!"
      ]
    },
    {
      "cell_type": "markdown",
      "metadata": {
        "id": "87oPDX5fuYdN"
      },
      "source": [
        "## Extra credit\n",
        "\n",
        "If we consider the limit as $ n \\to \\infty $, then the proportion of heads out of the total converges on the normal distribution, as stated above. \n",
        "\n",
        "If we express the random variable as the proportion of heads, then: \n",
        "> $ \\lim\\limits_{n \\to \\infty} \\mu = \\frac{np}{n} = p = 0.5 $\n",
        ">\n",
        "> $ \\lim\\limits_{n \\to \\infty} \\sigma = \\frac{np(1-p)}{n} = p(1-p) = 0.25 $"
      ]
    },
    {
      "cell_type": "code",
      "metadata": {
        "id": "4uUs5177m8YB"
      },
      "source": [
        ""
      ],
      "execution_count": null,
      "outputs": []
    }
  ]
}